{
 "cells": [
  {
   "cell_type": "code",
   "execution_count": 4,
   "metadata": {},
   "outputs": [],
   "source": [
    "import pandas as pd\n",
    "import numpy as np\n",
    "from sklearn.feature_extraction.text import TfidfVectorizer\n",
    "from sklearn.metrics.pairwise import linear_kernel\n",
    "from unidecode import unidecode\n",
    "#import scipy.sparse as sp this is a leftover from one of the attempts at adjusting the tfidf values, too complicated, so left it alone\n"
   ]
  },
  {
   "cell_type": "code",
   "execution_count": 5,
   "metadata": {},
   "outputs": [],
   "source": [
    "df = pd.read_csv('dataset/clean_dataset_list_version.csv', encoding=\"utf-8\")"
   ]
  },
  {
   "attachments": {},
   "cell_type": "markdown",
   "metadata": {},
   "source": [
    "The main idea for this part was to use the spanish locale to call the days, but getting fastapi and render to work in spanish was impossible.\n",
    "\n",
    "#@app.get('/peliculas_mes/{mes}')\n",
    "def peliculas_mes(mes:str):\n",
    "    '''Se ingresa el mes y la funcion retorna la cantidad de peliculas que se estrenaron ese mes historicamente'''\n",
    "\n",
    "#turning release_date into date time so we can put the month in a separate column.\n",
    "    df['release_date'] = pd.to_datetime(df['release_date'], errors='coerce')\n",
    "#getting the months and set them in a column\n",
    "    df['month'] = df['release_date'].dt.month_name(locale='Spanish')\n",
    "\n",
    "#filter by specified month\n",
    "    df_mes = df[df['month'].str.lower() == mes.lower()]\n",
    "#get amount of movies for the month.\n",
    "    cantidad = len(df_mes)\n",
    "#returning as dictionary.\n",
    "    return {'mes': mes.capitalize(), 'cantidad': cantidad}\n"
   ]
  },
  {
   "cell_type": "code",
   "execution_count": 6,
   "metadata": {},
   "outputs": [],
   "source": [
    "#@app.get('/peliculas_mes/{mes}')\n",
    "def peliculas_mes(mes: str):\n",
    "    '''get all the movies produced on certain months'''\n",
    "\n",
    "    #dictionary to map english months to spanish.\n",
    "    meses_ingles = {\n",
    "        'January': 'enero',\n",
    "        'February': 'febrero',\n",
    "        'March': 'marzo',\n",
    "        'April': 'abril',\n",
    "        'May': 'mayo',\n",
    "        'June': 'junio',\n",
    "        'July': 'julio',\n",
    "        'August': 'agosto',\n",
    "        'September': 'septiembre',\n",
    "        'October': 'octubre',\n",
    "        'November': 'noviembre',\n",
    "        'December': 'diciembre'\n",
    "    }\n",
    "    \n",
    "    #mapping the dictionary\n",
    "    meses_espanol = {v: k for k, v in meses_ingles.items()}\n",
    "    \n",
    "    #converting the column to datetime because for some reason sometimes it breaks\n",
    "    df['release_date'] = pd.to_datetime(df['release_date'])\n",
    "\n",
    "    #get month name and force it to lower case\n",
    "    df['mes'] = df['release_date'].dt.month_name().str.lower()\n",
    "    \n",
    "    #getting the spanish month, forced to lower case as well\n",
    "    #filter month to the english month.\n",
    "    df_mes = df[df['mes'] == meses_espanol[mes.lower()].lower()]\n",
    "    nombre_mes = mes.capitalize()\n",
    "\n",
    "    #get amount of movies for the month\n",
    "    cantidad = len(df_mes)\n",
    "\n",
    "    #return as dictionary\n",
    "    return {'mes': nombre_mes, 'cantidad': cantidad}"
   ]
  },
  {
   "cell_type": "code",
   "execution_count": 7,
   "metadata": {},
   "outputs": [
    {
     "data": {
      "text/plain": [
       "{'mes': 'Enero', 'cantidad': 5912}"
      ]
     },
     "execution_count": 7,
     "metadata": {},
     "output_type": "execute_result"
    }
   ],
   "source": [
    "peliculas_mes('enero')"
   ]
  },
  {
   "attachments": {},
   "cell_type": "markdown",
   "metadata": {},
   "source": [
    "Same issue as the months, since getting fastapi and render to work in spanish properly wasn't possible, this code will be left for future reference.\n",
    "\n",
    "#@app.get('/peliculas_dis/{dis}')\n",
    "def peliculas_dia(dia:str):\n",
    "    '''Se ingresa el dia y la funcion retorna la cantidad de peliculas que se estrenaron ese dia historicamente'''\n",
    "\n",
    "#turning release_date into date time so we can put the year in a separate column.\n",
    "    df['release_date'] = pd.to_datetime(df['release_date'], errors='coerce')\n",
    "\n",
    "#getting the day for the day of week column\n",
    "    df['day_of_week'] = df['release_date'].dt.day_name(locale='Spanish')\n",
    "\n",
    "#filtering to find the day\n",
    "    df_dia = df[df['day_of_week'].apply(lambda x: unidecode(x).lower()) == unidecode(dia.lower())]\n",
    "\n",
    "#getting the amount of movies released on that day\n",
    "    cantidad_peliculas = len(df_dia)\n",
    "\n",
    "#returning it as a dictionary.\n",
    "    return {'dia_semana': dia.capitalize(), 'cantidad': cantidad_peliculas}"
   ]
  },
  {
   "cell_type": "code",
   "execution_count": 8,
   "metadata": {},
   "outputs": [],
   "source": [
    "#@app.get('/peliculas_dia/{dia}')\n",
    "def peliculas_dia(dia: str):\n",
    "    '''get all the movies produced on a certain day'''\n",
    "    \n",
    "    #dictionary that maps the english days to their spanish counterparts\n",
    "    dias_ingles = {\n",
    "        'Monday': 'lunes',\n",
    "        'Tuesday': 'martes',\n",
    "        'Wednesday': 'miércoles',\n",
    "        'Thursday': 'jueves',\n",
    "        'Friday': 'viernes',\n",
    "        'Saturday': 'sábado',\n",
    "        'Sunday': 'domingo'\n",
    "    }\n",
    "    \n",
    "    #mapping the dictionary\n",
    "    dias_espanol = {unidecode(v): k for k, v in dias_ingles.items()}\n",
    "        \n",
    "    #converting the column to date time, just in case, again, same deal as with month\n",
    "    df['release_date'] = pd.to_datetime(df['release_date'])\n",
    "    \n",
    "    #getting the day of the week from the date\n",
    "    df['day_of_week'] = df['release_date'].dt.day_name()\n",
    "\n",
    "    # getting the Spanish day, forced to lower case and using unidecode to ignore accents\n",
    "    df_dia = df[df['day_of_week'] == dias_espanol[unidecode(dia.lower())]]\n",
    "    nombre_dia = dia.capitalize()\n",
    "\n",
    "    #getting the amount of movies released on that day\n",
    "    cantidad = len(df_dia)\n",
    "\n",
    "    #returning it as a dictionary.\n",
    "    return {'dia_semana': nombre_dia, 'cantidad': cantidad}\n"
   ]
  },
  {
   "cell_type": "code",
   "execution_count": 9,
   "metadata": {},
   "outputs": [
    {
     "data": {
      "text/plain": [
       "{'dia_semana': 'Miercoles', 'cantidad': 7035}"
      ]
     },
     "execution_count": 9,
     "metadata": {},
     "output_type": "execute_result"
    }
   ],
   "source": [
    "peliculas_dia('miercoles')"
   ]
  },
  {
   "cell_type": "code",
   "execution_count": 10,
   "metadata": {},
   "outputs": [],
   "source": [
    "#@app.get('/franquicia/{franquicia}')\n",
    "def franquicia(franquicia:str):\n",
    "    '''get the average and total earnings from a certain collection'''\n",
    "\n",
    "    #filtering movies that belong to a collection the case and na exceptions are made to ignore the case from the input and avoid raising errors if there are empty values\n",
    "    movie_collection = df[df['belongs_to_collection'].str.contains(franquicia, case=False, na=False)]\n",
    "\n",
    "    #getting the amount of movies in that collection\n",
    "    mov_quant= len(movie_collection)\n",
    "\n",
    "    #adding together the total earnings from the movies, and also getting the average\n",
    "    total_earnings = round(movie_collection['revenue'].sum(),2)\n",
    "    avg_earnings = round(movie_collection['revenue'].mean(),2)\n",
    "\n",
    "    #returning as dictioanry\n",
    "    return {'franquicia': franquicia, 'cantidad': mov_quant, 'ganancia_total': f'{total_earnings:,}', 'ganancia_promedio': f'{avg_earnings:,}'}\n"
   ]
  },
  {
   "cell_type": "code",
   "execution_count": 11,
   "metadata": {},
   "outputs": [
    {
     "data": {
      "text/plain": [
       "{'franquicia': 'chili',\n",
       " 'cantidad': 2,\n",
       " 'ganancia_total': '210,327,738.0',\n",
       " 'ganancia_promedio': '105,163,869.0'}"
      ]
     },
     "execution_count": 11,
     "metadata": {},
     "output_type": "execute_result"
    }
   ],
   "source": [
    "franquicia('chili')"
   ]
  },
  {
   "cell_type": "code",
   "execution_count": 12,
   "metadata": {},
   "outputs": [],
   "source": [
    "#@app.get('/peliculas_pais/{pais}')\n",
    "def peliculas_pais(pais:str):\n",
    "    '''get the amount of movies produced in a certain country'''\n",
    "    \n",
    "    #filtering movies by country\n",
    "    countries = df[df['production_countries'].str.contains(pais, case=False, na=False)]\n",
    "\n",
    "    #getting total movies produced within the country\n",
    "    quant = len(countries)\n",
    "\n",
    "    #return as dictionary\n",
    "    return {'pais': pais.capitalize(), 'cantidad': quant}"
   ]
  },
  {
   "cell_type": "code",
   "execution_count": 13,
   "metadata": {},
   "outputs": [
    {
     "data": {
      "text/plain": [
       "{'pais': 'Germany', 'cantidad': 2260}"
      ]
     },
     "execution_count": 13,
     "metadata": {},
     "output_type": "execute_result"
    }
   ],
   "source": [
    "peliculas_pais('germany')"
   ]
  },
  {
   "cell_type": "code",
   "execution_count": 14,
   "metadata": {},
   "outputs": [],
   "source": [
    "#@app.get('/productoras/{productora}')\n",
    "def productoras(productora:str):\n",
    "    '''get the amount of movies produced by a certain company'''\n",
    "\n",
    "    #filtering the_production to include only rows where the productora is present in the production_companies column\n",
    "    filtered_production =df[df['production_companies'].str.contains(productora, case=False, na=False)]\n",
    "\n",
    "    #calculating the total revenue and count the number of movies produced by the productora\n",
    "    total_earnings = filtered_production['revenue'].sum()\n",
    "    quant = filtered_production.shape[0]  #number of rows in the filtered_production\n",
    "\n",
    "    #return as dictionary\n",
    "    return {'productora': productora.title(), 'ganancia_total': f'{total_earnings:,}', 'cantidad': quant}"
   ]
  },
  {
   "cell_type": "code",
   "execution_count": 15,
   "metadata": {},
   "outputs": [
    {
     "data": {
      "text/plain": [
       "{'productora': 'Universal',\n",
       " 'ganancia_total': '58,548,254,273.0',\n",
       " 'cantidad': 1103}"
      ]
     },
     "execution_count": 15,
     "metadata": {},
     "output_type": "execute_result"
    }
   ],
   "source": [
    "productoras('universal')"
   ]
  },
  {
   "cell_type": "code",
   "execution_count": 16,
   "metadata": {},
   "outputs": [],
   "source": [
    "#@app.get('/retorno/{pelicula}')\n",
    "def retorno(pelicula:str):\n",
    "    '''get the investment, earnings and return on a certain movie'''\n",
    "\n",
    "    #filtering df by specified movie\n",
    "    filtered_movie = df[df['title'].str.contains(pelicula, case=False, na=False)]\n",
    "\n",
    "    #just calling the correct columns for the filter.\n",
    "    investment = filtered_movie['budget'].values[0]\n",
    "    earnings = filtered_movie['revenue'].values[0]\n",
    "    roi = round(filtered_movie['return'].values[0],2) #unclear if what was asked was ganancia - inversion or just to grab the return column, which is the more intuitive answer. \n",
    "    year = int(filtered_movie['release_year'].values[0])\n",
    "\n",
    "    #return as dictionary\n",
    "    return {'pelicula': pelicula.title(), 'inversion': f'{investment:,}', 'ganancia': f'{earnings:,}', 'retorno': f'{roi:,}', 'anio': year}\n"
   ]
  },
  {
   "cell_type": "code",
   "execution_count": 17,
   "metadata": {},
   "outputs": [
    {
     "data": {
      "text/plain": [
       "{'pelicula': 'Shrek',\n",
       " 'inversion': '60,000,000.0',\n",
       " 'ganancia': '484,409,218.0',\n",
       " 'retorno': '8.07',\n",
       " 'anio': 2001}"
      ]
     },
     "execution_count": 17,
     "metadata": {},
     "output_type": "execute_result"
    }
   ],
   "source": [
    "retorno('shrek')"
   ]
  },
  {
   "cell_type": "code",
   "execution_count": 18,
   "metadata": {},
   "outputs": [],
   "source": [
    "#filling the df with empty spaces to avoid errors, preprocessing the text, and then making the tfidf matrix for the recommendation function.\n",
    "\n",
    "df.fillna({'overview': '', 'tagline': '', 'genres': '', 'belongs_to_collection': ''}, inplace=True)\n",
    "\n",
    "\n",
    "def preprocess_text(text):\n",
    "    #lowercasing the text\n",
    "    text = text.lower()\n",
    "    #removing punctuation\n",
    "    text = ''.join(c for c in text if c.isalnum() or c.isspace())\n",
    "    return text\n",
    "\n",
    "#preprocessing the overview, tagline, and genres columns and dropping the preprocessed column\n",
    "df['preprocessed_text'] = df['overview'] + ' ' + df['tagline'] + ' ' + df['genres']\n",
    "df['processed_text'] = df['preprocessed_text'].map(preprocess_text)\n",
    "df = df.drop(columns=['preprocessed_text'])\n",
    "\n",
    "#calculate ifidf matrix. using TfidfVectorizer's list of stop words lets you skip some annoying processes of cleaning the text data. also makes it not eat all the ram\n",
    "tfidf = TfidfVectorizer(stop_words='english')\n",
    "tfidf_matrix = tfidf.fit_transform(df['processed_text'])\n"
   ]
  },
  {
   "cell_type": "code",
   "execution_count": 19,
   "metadata": {},
   "outputs": [],
   "source": [
    "# ML\n",
    "#@app.get('/recomendacion/{titulo}')\n",
    "def recomendacion(titulo: str):\n",
    "    '''get recommended movies based on a certain movie. uses tfidf matrix to compare vectors from the dataset and the selected movie to generate recommendations'''\n",
    "    movie = df[df['title'].str.contains(titulo, case=False, na=False)]\n",
    "\n",
    "    if movie.empty:\n",
    "        return {'error': 'Movie not found'}\n",
    "\n",
    "    movie_index = movie.index[0]\n",
    "    movie_vector = tfidf_matrix[movie_index]\n",
    "\n",
    "    #calculating cosine similarity between the input movie and all other movies\n",
    "    cosine_similarities = linear_kernel(movie_vector, tfidf_matrix).flatten()\n",
    "\n",
    "    #getting the indices of movies sorted by similarity scores\n",
    "    similar_movie_indices = cosine_similarities.argsort()[::-1]\n",
    "\n",
    "    #filtering out the input movie itself\n",
    "    similar_movie_indices = similar_movie_indices[similar_movie_indices != movie_index]\n",
    "\n",
    "    #getting the top 5 recommendations\n",
    "    similar_movie_indices = similar_movie_indices[:5]\n",
    "    recommended_movies = list(df['title'].iloc[similar_movie_indices].str.title())\n",
    "\n",
    "    #returning the recommended movies as dictionary\n",
    "    return {'Lista recomendada': recommended_movies}"
   ]
  },
  {
   "cell_type": "code",
   "execution_count": 24,
   "metadata": {},
   "outputs": [
    {
     "data": {
      "text/plain": [
       "{'Lista recomendada': ['The Return Of The King',\n",
       "  'The Lord Of The Rings: The Fellowship Of The Ring',\n",
       "  'The Lord Of The Rings: The Return Of The King',\n",
       "  'A Fighting Man',\n",
       "  'The Hunt For Gollum']}"
      ]
     },
     "execution_count": 24,
     "metadata": {},
     "output_type": "execute_result"
    }
   ],
   "source": [
    "recomendacion('lord of the rings')"
   ]
  },
  {
   "cell_type": "code",
   "execution_count": null,
   "metadata": {},
   "outputs": [],
   "source": []
  }
 ],
 "metadata": {
  "kernelspec": {
   "display_name": "Python 3",
   "language": "python",
   "name": "python3"
  },
  "language_info": {
   "codemirror_mode": {
    "name": "ipython",
    "version": 3
   },
   "file_extension": ".py",
   "mimetype": "text/x-python",
   "name": "python",
   "nbconvert_exporter": "python",
   "pygments_lexer": "ipython3",
   "version": "3.11.1"
  },
  "orig_nbformat": 4
 },
 "nbformat": 4,
 "nbformat_minor": 2
}

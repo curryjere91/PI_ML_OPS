{
 "cells": [
  {
   "cell_type": "code",
   "execution_count": 2,
   "metadata": {},
   "outputs": [],
   "source": [
    "import pandas as pd\n",
    "import numpy as np\n",
    "from sklearn.feature_extraction.text import TfidfVectorizer\n",
    "from sklearn.metrics.pairwise import linear_kernel\n",
    "from unidecode import unidecode\n",
    "#import scipy.sparse as sp this is a leftover from one of the attempts at adjusting the tfidf values, too complicated, so left it alone, but wanted to keep it as reminder\n"
   ]
  },
  {
   "cell_type": "code",
   "execution_count": 3,
   "metadata": {},
   "outputs": [],
   "source": [
    "df = pd.read_csv('dataset/clean_dataset.csv', encoding=\"utf-8\")"
   ]
  },
  {
   "attachments": {},
   "cell_type": "markdown",
   "metadata": {},
   "source": [
    "The main idea for this part was to use the spanish locale to call the days, but getting fastapi and render to work in spanish was impossible.\n",
    "\n",
    "@app.get('/peliculas_mes/{mes}')\n",
    "def peliculas_mes(mes:str):\n",
    "    '''Se ingresa el mes y la funcion retorna la cantidad de peliculas que se estrenaron ese mes historicamente'''\n",
    "\n",
    "turning release_date into date time so we can put the month in a separate column.\n",
    "    df['release_date'] = pd.to_datetime(df['release_date'], errors='coerce')\n",
    "getting the months and set them in a column\n",
    "    df['month'] = df['release_date'].dt.month_name(locale='Spanish')\n",
    "\n",
    "filter by specified month\n",
    "    df_mes = df[df['month'].str.lower() == mes.lower()]\n",
    "get amount of movies for the month.\n",
    "    cantidad = len(df_mes)\n",
    "returning as dictionary.\n",
    "    return {'mes': mes.capitalize(), 'cantidad': cantidad}\n"
   ]
  },
  {
   "cell_type": "code",
   "execution_count": 4,
   "metadata": {},
   "outputs": [],
   "source": [
    "#@app.get('/peliculas_mes/{mes}')\n",
    "def peliculas_mes(mes: str):\n",
    "    '''get all the movies produced on certain months'''\n",
    "\n",
    "    #dictionary to map english months to spanish.\n",
    "    meses_ingles = {\n",
    "        'January': 'enero',\n",
    "        'February': 'febrero',\n",
    "        'March': 'marzo',\n",
    "        'April': 'abril',\n",
    "        'May': 'mayo',\n",
    "        'June': 'junio',\n",
    "        'July': 'julio',\n",
    "        'August': 'agosto',\n",
    "        'September': 'septiembre',\n",
    "        'October': 'octubre',\n",
    "        'November': 'noviembre',\n",
    "        'December': 'diciembre'\n",
    "    }\n",
    "    \n",
    "    #mapping the dictionary\n",
    "    meses_espanol = {v: k for k, v in meses_ingles.items()}\n",
    "    \n",
    "    #converting the column to datetime because for some reason sometimes it breaks\n",
    "    df['release_date'] = pd.to_datetime(df['release_date'])\n",
    "\n",
    "    #get month name and force it to lower case\n",
    "    df['mes'] = df['release_date'].dt.month_name().str.lower()\n",
    "\n",
    "    #return error if not using a month in spanish\n",
    "    if mes.lower() not in meses_espanol:\n",
    "        return {'error': 'Invalid month, enter a valid month in spanish'}\n",
    "    \n",
    "    #getting the spanish month, forced to lower case as well\n",
    "    #filter month to the english month.\n",
    "    df_mes = df[df['mes'] == meses_espanol[mes.lower()].lower()]\n",
    "    nombre_mes = mes.capitalize()\n",
    "\n",
    "    #get amount of movies for the month\n",
    "    cantidad = len(df_mes)\n",
    "\n",
    "    #return as dictionary\n",
    "    return {'mes': nombre_mes, 'cantidad': cantidad}"
   ]
  },
  {
   "cell_type": "code",
   "execution_count": 5,
   "metadata": {},
   "outputs": [
    {
     "data": {
      "text/plain": [
       "{'mes': 'Enero', 'cantidad': 5912}"
      ]
     },
     "execution_count": 5,
     "metadata": {},
     "output_type": "execute_result"
    }
   ],
   "source": [
    "peliculas_mes('enero')"
   ]
  },
  {
   "cell_type": "code",
   "execution_count": 6,
   "metadata": {},
   "outputs": [
    {
     "data": {
      "text/plain": [
       "{'error': 'Invalid month, enter a valid month in spanish'}"
      ]
     },
     "execution_count": 6,
     "metadata": {},
     "output_type": "execute_result"
    }
   ],
   "source": [
    "peliculas_mes('january')"
   ]
  },
  {
   "attachments": {},
   "cell_type": "markdown",
   "metadata": {},
   "source": [
    "Same issue as the months, since getting fastapi and render to work in spanish properly wasn't possible, this code will be left for future reference.\n",
    "\n",
    "@app.get('/peliculas_dis/{dis}')\n",
    "def peliculas_dia(dia:str):\n",
    "    '''Se ingresa el dia y la funcion retorna la cantidad de peliculas que se estrenaron ese dia historicamente'''\n",
    "\n",
    "turning release_date into date time so we can put the year in a separate column.\n",
    "    df['release_date'] = pd.to_datetime(df['release_date'], errors='coerce')\n",
    "\n",
    "getting the day for the day of week column\n",
    "    df['day_of_week'] = df['release_date'].dt.day_name(locale='Spanish')\n",
    "\n",
    "filtering to find the day\n",
    "    df_dia = df[df['day_of_week'].apply(lambda x: unidecode(x).lower()) == unidecode(dia.lower())]\n",
    "\n",
    "getting the amount of movies released on that day\n",
    "    cantidad_peliculas = len(df_dia)\n",
    "\n",
    "returning it as a dictionary.\n",
    "    return {'dia_semana': dia.capitalize(), 'cantidad': cantidad_peliculas}"
   ]
  },
  {
   "cell_type": "code",
   "execution_count": 7,
   "metadata": {},
   "outputs": [],
   "source": [
    "#@app.get('/peliculas_dia/{dia}')\n",
    "def peliculas_dia(dia: str):\n",
    "    '''get all the movies produced on a certain day'''\n",
    "    \n",
    "    #dictionary that maps the english days to their spanish counterparts\n",
    "    dias_ingles = {\n",
    "        'Monday': 'lunes',\n",
    "        'Tuesday': 'martes',\n",
    "        'Wednesday': 'miércoles',\n",
    "        'Thursday': 'jueves',\n",
    "        'Friday': 'viernes',\n",
    "        'Saturday': 'sábado',\n",
    "        'Sunday': 'domingo'\n",
    "    }\n",
    "    \n",
    "    #mapping the dictionary\n",
    "    dias_espanol = {unidecode(v): k for k, v in dias_ingles.items()}\n",
    "        \n",
    "    #converting the column to date time, just in case, again, same deal as with month\n",
    "    df['release_date'] = pd.to_datetime(df['release_date'])\n",
    "    \n",
    "    #getting the day of the week from the date\n",
    "    df['day_of_week'] = df['release_date'].dt.day_name()\n",
    "\n",
    "    #return error if input is not a day in spanish\n",
    "    if unidecode(dia.lower()) not in dias_espanol:\n",
    "        return {'error': 'Invalid day, enter a valid spanish day. Accents can be ignored'}\n",
    "\n",
    "    # getting the Spanish day, forced to lower case and using unidecode to ignore accents\n",
    "    df_dia = df[df['day_of_week'] == dias_espanol[unidecode(dia.lower())]]\n",
    "    nombre_dia = dia.capitalize()\n",
    "\n",
    "\n",
    "\n",
    "    #getting the amount of movies released on that day\n",
    "    cantidad = len(df_dia)\n",
    "\n",
    "    #returning it as a dictionary.\n",
    "    return {'dia_semana': nombre_dia, 'cantidad': cantidad}\n"
   ]
  },
  {
   "cell_type": "code",
   "execution_count": 8,
   "metadata": {},
   "outputs": [
    {
     "data": {
      "text/plain": [
       "{'dia_semana': 'Sabado', 'cantidad': 5151}"
      ]
     },
     "execution_count": 8,
     "metadata": {},
     "output_type": "execute_result"
    }
   ],
   "source": [
    "peliculas_dia('sabado')"
   ]
  },
  {
   "cell_type": "code",
   "execution_count": 9,
   "metadata": {},
   "outputs": [
    {
     "data": {
      "text/plain": [
       "{'error': 'Invalid day, enter a valid spanish day. Accents can be ignored'}"
      ]
     },
     "execution_count": 9,
     "metadata": {},
     "output_type": "execute_result"
    }
   ],
   "source": [
    "peliculas_dia('saturday')"
   ]
  },
  {
   "cell_type": "code",
   "execution_count": 10,
   "metadata": {},
   "outputs": [],
   "source": [
    "#@app.get('/franquicia/{franquicia}')\n",
    "def franquicia(franquicia:str):\n",
    "    '''get the average and total earnings from a certain collection'''\n",
    "\n",
    "    #filtering movies that belong to a collection the case and na exceptions are made to ignore the case from the input and avoid raising errors if there are empty values\n",
    "    movie_collection = df[df['belongs_to_collection'].str.contains(franquicia, case=False, na=False)]\n",
    "\n",
    "    if movie_collection.empty:\n",
    "        return {'error': 'Movie collection not found'}\n",
    "\n",
    "    #getting the amount of movies in that collection\n",
    "    mov_quant= len(movie_collection)\n",
    "\n",
    "    #adding together the total earnings from the movies, and getting the average\n",
    "    total_earnings = round(movie_collection['revenue'].sum(),2)\n",
    "    avg_earnings = round(movie_collection['revenue'].mean(),2)\n",
    "\n",
    "    #returning as dictioanry\n",
    "    return {'franquicia': franquicia, 'cantidad': mov_quant, 'ganancia_total': f'{total_earnings:,}', 'ganancia_promedio': f'{avg_earnings:,}'}\n"
   ]
  },
  {
   "cell_type": "code",
   "execution_count": 11,
   "metadata": {},
   "outputs": [
    {
     "data": {
      "text/plain": [
       "{'franquicia': 'shrek',\n",
       " 'cantidad': 5,\n",
       " 'ganancia_total': '2,955,807,008.0',\n",
       " 'ganancia_promedio': '591,161,401.6'}"
      ]
     },
     "execution_count": 11,
     "metadata": {},
     "output_type": "execute_result"
    }
   ],
   "source": [
    "franquicia('shrek')"
   ]
  },
  {
   "cell_type": "code",
   "execution_count": 12,
   "metadata": {},
   "outputs": [
    {
     "data": {
      "text/plain": [
       "{'error': 'Movie collection not found'}"
      ]
     },
     "execution_count": 12,
     "metadata": {},
     "output_type": "execute_result"
    }
   ],
   "source": [
    "franquicia('aasdf')"
   ]
  },
  {
   "cell_type": "code",
   "execution_count": 13,
   "metadata": {},
   "outputs": [],
   "source": [
    "#@app.get('/peliculas_pais/{pais}')\n",
    "def peliculas_pais(pais:str):\n",
    "    '''get the amount of movies produced in a certain country'''\n",
    "    \n",
    "    #filtering movies by country\n",
    "    countries = df[df['production_countries'].str.contains(pais, case=False, na=False)]\n",
    "\n",
    "    if countries.empty:\n",
    "        return {'error': 'Country not found'}\n",
    "\n",
    "    #getting total movies produced within the country\n",
    "    quant = len(countries)\n",
    "\n",
    "    #return as dictionary\n",
    "    return {'pais': pais.capitalize(), 'cantidad': quant}"
   ]
  },
  {
   "cell_type": "code",
   "execution_count": 14,
   "metadata": {},
   "outputs": [
    {
     "data": {
      "text/plain": [
       "{'pais': 'Japan', 'cantidad': 1648}"
      ]
     },
     "execution_count": 14,
     "metadata": {},
     "output_type": "execute_result"
    }
   ],
   "source": [
    "peliculas_pais('japan')"
   ]
  },
  {
   "cell_type": "code",
   "execution_count": 15,
   "metadata": {},
   "outputs": [
    {
     "data": {
      "text/plain": [
       "{'error': 'Country not found'}"
      ]
     },
     "execution_count": 15,
     "metadata": {},
     "output_type": "execute_result"
    }
   ],
   "source": [
    "peliculas_pais('no country')"
   ]
  },
  {
   "cell_type": "code",
   "execution_count": 16,
   "metadata": {},
   "outputs": [],
   "source": [
    "#@app.get('/productoras/{productora}')\n",
    "def productoras(productora:str):\n",
    "    '''get the amount of movies produced by a certain company'''\n",
    "\n",
    "    #filtering the_production to include only rows where the productora is present in the production_companies column\n",
    "    filtered_production =df[df['production_companies'].str.contains(productora, case=False, na=False)]\n",
    "\n",
    "    if filtered_production.empty:\n",
    "        return {'error': 'Production Company not found'}\n",
    "\n",
    "    #calculating the total revenue and count the number of movies produced by the productora\n",
    "    total_earnings = filtered_production['revenue'].sum()\n",
    "    quant = filtered_production.shape[0]  #number of rows in the filtered_production\n",
    "\n",
    "    #return as dictionary\n",
    "    return {'productora': productora.title(), 'ganancia_total': f'{total_earnings:,}', 'cantidad': quant}"
   ]
  },
  {
   "cell_type": "code",
   "execution_count": 17,
   "metadata": {},
   "outputs": [
    {
     "data": {
      "text/plain": [
       "{'productora': 'Universal',\n",
       " 'ganancia_total': '58,548,254,273.0',\n",
       " 'cantidad': 1103}"
      ]
     },
     "execution_count": 17,
     "metadata": {},
     "output_type": "execute_result"
    }
   ],
   "source": [
    "productoras('universal')"
   ]
  },
  {
   "cell_type": "code",
   "execution_count": 18,
   "metadata": {},
   "outputs": [
    {
     "data": {
      "text/plain": [
       "{'error': 'Production Company not found'}"
      ]
     },
     "execution_count": 18,
     "metadata": {},
     "output_type": "execute_result"
    }
   ],
   "source": [
    "productoras('test me')"
   ]
  },
  {
   "cell_type": "code",
   "execution_count": 19,
   "metadata": {},
   "outputs": [],
   "source": [
    "#@app.get('/retorno/{pelicula}')\n",
    "def retorno(pelicula:str):\n",
    "    '''get the investment, earnings and return on a certain movie'''\n",
    "\n",
    "    #filtering df by specified movie\n",
    "    filtered_movie = df[df['title'].str.contains(pelicula, case=False, na=False)]\n",
    "\n",
    "    #if no movie is found, returns an error telling you that the movie isn't on the df\n",
    "    if filtered_movie.empty:\n",
    "        return {'error': 'Movie not found'}\n",
    "\n",
    "    #just calling the correct columns for the filter.\n",
    "    investment = filtered_movie['budget'].values[0]\n",
    "    earnings = filtered_movie['revenue'].values[0]\n",
    "    roi = round(filtered_movie['return'].values[0],2) #unclear if what was asked was ganancia - inversion or just to grab the return column, which is the more intuitive answer. \n",
    "    year = int(filtered_movie['release_year'].values[0])\n",
    "\n",
    "    #return as dictionary\n",
    "    return {'pelicula': pelicula.title(), 'inversion': f'{investment:,}', 'ganancia': f'{earnings:,}', 'retorno': f'{roi:,}', 'anio': year}\n"
   ]
  },
  {
   "cell_type": "code",
   "execution_count": 20,
   "metadata": {},
   "outputs": [
    {
     "data": {
      "text/plain": [
       "{'pelicula': 'Shrek',\n",
       " 'inversion': '60,000,000.0',\n",
       " 'ganancia': '484,409,218.0',\n",
       " 'retorno': '8.07',\n",
       " 'anio': 2001}"
      ]
     },
     "execution_count": 20,
     "metadata": {},
     "output_type": "execute_result"
    }
   ],
   "source": [
    "retorno('shrek')"
   ]
  },
  {
   "cell_type": "code",
   "execution_count": 21,
   "metadata": {},
   "outputs": [
    {
     "data": {
      "text/plain": [
       "{'error': 'Movie not found'}"
      ]
     },
     "execution_count": 21,
     "metadata": {},
     "output_type": "execute_result"
    }
   ],
   "source": [
    "retorno('i hate this')"
   ]
  },
  {
   "cell_type": "code",
   "execution_count": 22,
   "metadata": {},
   "outputs": [],
   "source": [
    "#filling the df with empty spaces to avoid errors, preprocessing the text, and then making the tfidf matrix for the recommendation function.\n",
    "\n",
    "df.fillna({'overview': '', 'tagline': '', 'genres': '', 'belongs_to_collection': ''}, inplace=True)\n",
    "\n",
    "\n",
    "def preprocess_text(text):\n",
    "    '''this function grabs any text, turns it to lower case, removes punctuation and turns numbers to strings'''\n",
    "    #lowercasing the text\n",
    "    text = text.lower()\n",
    "    #removing punctuation\n",
    "    text = ''.join(c for c in text if c.isalnum() or c.isspace())\n",
    "\n",
    "    return text\n",
    "\n",
    "#preprocessing the overview, tagline, and genres columns and dropping the preprocessed column\n",
    "df['preprocessed_text'] = df['overview'] + ' ' + df['tagline'] + ' ' + df['genres']  + ' ' + df['title'] + ' ' + df['belongs_to_collection']\n",
    "df['processed_text'] = df['preprocessed_text'].map(preprocess_text)\n",
    "df = df.drop(columns=['preprocessed_text'])\n",
    "\n",
    "#calculate ifidf matrix. using TfidfVectorizer's list of stop words lets you skip some annoying processes of cleaning the text data.\n",
    "tfidf = TfidfVectorizer(stop_words='english')\n",
    "tfidf_matrix = tfidf.fit_transform(df['processed_text'])\n"
   ]
  },
  {
   "attachments": {},
   "cell_type": "markdown",
   "metadata": {},
   "source": [
    "i have gripes with this part of the code.\n",
    "\n",
    "df['preprocessed_text'] = df['overview'] + ' ' + df['tagline'] + ' ' + df['genres'] + ' ' + df['title']  + ' ' + df['belongs_to_collection']\n",
    "\n",
    "overview, tagline, and genres are good enough to get some movies that are close to what should be expected as result. however, it's still not as precise as i would like it to be.\n",
    "adding title seems to have fixed a lot of others, but still gives random movies when checking some collections.\n",
    "sinces that was the case, i decided to add the belongs_to_collection to the list, and that seems to have corrected it for the most part.\n",
    "\n",
    "however i still don't understand why avengers or thor give completely unrelated results when the results should have been pretty intuitive.\n",
    "this shows that clearly the data available is just not enough to make a reliable recommendation algorithm. if we had the cast or some other additional data, maybe we could make a more precise word soup to feed into the matrix and make it better.\n",
    "\n",
    "also, tfidf_matrix is just the raw matrix df, with a single dimension, but a ton of data.\n",
    "i tried limiting the data in that matrix to 30000 words, then passing it through a cosine similarity function, transforming it to a multidimensional one with only the 3000 highest data points to create the model.\n",
    "the problem is the data quality of what we had available: when it passes through the recomendacion function, it gives garbage recommendations.\n",
    "so instead, by doing the cosine similarities with the tf-idf matrix of the requested movie, and the unfiltered tfidf_matrix, the results ended up being a lot more accurate.\n",
    "however, there are still some very questionable cases in the movies that are returned.\n",
    "for example thor and avengers as search terms dont return avenger related movies, but searching captain america, ultron, and some others does bring up movies that could be very related to them.\n",
    "my theory is that avengers might be too short of a string to properly give a recommendation, considering the amount of movies we have with that name, and thor could be uncommon enough to not give a good result regardless.\n",
    "finally, thanks to the research i did for all of this, i learned that you should probably drop the python kernel completely if you want to restart the matrix generation.\n",
    "this is because because at some point during all the testing, i started getting really good results, but after restarting vscode a few hours later, the results were back to the usual less accurate ones.\n",
    "i have no idea what, of all the things i did, affected those results so much during testing, but it was a fun learning experience."
   ]
  },
  {
   "cell_type": "code",
   "execution_count": 23,
   "metadata": {},
   "outputs": [],
   "source": [
    "# ML\n",
    "#@app.get('/recomendacion/{titulo}')\n",
    "def recomendacion(titulo: str):\n",
    "    '''get recommended movies based on a certain movie. uses tfidf matrix to compare vectors from the dataset and the selected movie to generate recommendations'''\n",
    "    movie = df[df['title'].str.contains(titulo, case=False, na=False)]\n",
    "\n",
    "    if movie.empty:\n",
    "        return {'error': 'Movie not found'}\n",
    "\n",
    "    movie_index = movie.index[0]\n",
    "    movie_vector = tfidf_matrix[movie_index]\n",
    "\n",
    "    #calculating cosine similarity between the input movie and the preloaded tfidf matrix\n",
    "    cosine_similarities = linear_kernel(movie_vector, tfidf_matrix).flatten()\n",
    "\n",
    "    #getting the indices of movies sorted by similarity scores\n",
    "    similar_movie_indices = cosine_similarities.argsort()[::-1]\n",
    "\n",
    "    #filtering out the input movie itself\n",
    "    similar_movie_indices = similar_movie_indices[similar_movie_indices != movie_index]\n",
    "\n",
    "    #getting the top 5 recommendations\n",
    "    similar_movie_indices = similar_movie_indices[:5]\n",
    "    recommended_movies = list(df['title'].iloc[similar_movie_indices].str.title())\n",
    "\n",
    "    #returning the recommended movies as dictionary\n",
    "    return {'Lista recomendada': recommended_movies}"
   ]
  },
  {
   "cell_type": "code",
   "execution_count": 24,
   "metadata": {},
   "outputs": [
    {
     "data": {
      "text/plain": [
       "{'Lista recomendada': ['The Return Of The King',\n",
       "  'The Lord Of The Rings: The Fellowship Of The Ring',\n",
       "  'The Lord Of The Rings: The Return Of The King',\n",
       "  'The Lord Of The Rings: The Two Towers',\n",
       "  'The Ring Thing']}"
      ]
     },
     "execution_count": 24,
     "metadata": {},
     "output_type": "execute_result"
    }
   ],
   "source": [
    "recomendacion('lord of the rings')"
   ]
  },
  {
   "cell_type": "code",
   "execution_count": 25,
   "metadata": {},
   "outputs": [
    {
     "data": {
      "text/plain": [
       "{'Lista recomendada': ['Game Over',\n",
       "  'Table No. 21',\n",
       "  'Liar Game: Reborn',\n",
       "  'Big Game',\n",
       "  'Pixels']}"
      ]
     },
     "execution_count": 25,
     "metadata": {},
     "output_type": "execute_result"
    }
   ],
   "source": [
    "recomendacion('jumanji')"
   ]
  },
  {
   "cell_type": "code",
   "execution_count": 26,
   "metadata": {},
   "outputs": [
    {
     "data": {
      "text/plain": [
       "{'Lista recomendada': ['Despicable Me 2',\n",
       "  'Minions: Orientation Day',\n",
       "  'Mower Minions',\n",
       "  'Banana',\n",
       "  'Despicable Me 3']}"
      ]
     },
     "execution_count": 26,
     "metadata": {},
     "output_type": "execute_result"
    }
   ],
   "source": [
    "recomendacion('minions')"
   ]
  },
  {
   "cell_type": "code",
   "execution_count": 27,
   "metadata": {},
   "outputs": [
    {
     "data": {
      "text/plain": [
       "{'Lista recomendada': ['Batman: The Dark Knight Returns, Part 1',\n",
       "  'Batman: The Dark Knight Returns, Part 2',\n",
       "  'Batman: Bad Blood',\n",
       "  'Batman: Mask Of The Phantasm',\n",
       "  'The Dark Knight']}"
      ]
     },
     "execution_count": 27,
     "metadata": {},
     "output_type": "execute_result"
    }
   ],
   "source": [
    "recomendacion('batman')"
   ]
  },
  {
   "cell_type": "code",
   "execution_count": 28,
   "metadata": {},
   "outputs": [
    {
     "data": {
      "text/plain": [
       "{'Lista recomendada': ['Harry Potter And The Chamber Of Secrets',\n",
       "  'Harry Potter And The Prisoner Of Azkaban',\n",
       "  'Harry Potter And The Order Of The Phoenix',\n",
       "  'Harry Potter And The Goblet Of Fire',\n",
       "  'Harry Potter And The Deathly Hallows: Part 2']}"
      ]
     },
     "execution_count": 28,
     "metadata": {},
     "output_type": "execute_result"
    }
   ],
   "source": [
    "recomendacion('harry potter')"
   ]
  },
  {
   "cell_type": "code",
   "execution_count": 29,
   "metadata": {},
   "outputs": [
    {
     "data": {
      "text/plain": [
       "{'Lista recomendada': ['Toy Story 2',\n",
       "  'Toy Story 3',\n",
       "  'Small Fry',\n",
       "  'Toy Story Of Terror!',\n",
       "  'Toy Reanimator']}"
      ]
     },
     "execution_count": 29,
     "metadata": {},
     "output_type": "execute_result"
    }
   ],
   "source": [
    "recomendacion('toy story')"
   ]
  },
  {
   "cell_type": "code",
   "execution_count": 30,
   "metadata": {},
   "outputs": [
    {
     "data": {
      "text/plain": [
       "{'Lista recomendada': ['A Crime',\n",
       "  'From Mexico With Love',\n",
       "  'The Fortunes And Misfortunes Of Moll Flanders',\n",
       "  'Moll Flanders',\n",
       "  'All At Once']}"
      ]
     },
     "execution_count": 30,
     "metadata": {},
     "output_type": "execute_result"
    }
   ],
   "source": [
    "recomendacion('pulp fiction')"
   ]
  },
  {
   "cell_type": "code",
   "execution_count": 31,
   "metadata": {},
   "outputs": [
    {
     "data": {
      "text/plain": [
       "{'Lista recomendada': ['Tirano Banderas',\n",
       "  'Moon Over Parador',\n",
       "  'The Great Dictator',\n",
       "  'The President',\n",
       "  \"Ratko: The Dictator'S Son\"]}"
      ]
     },
     "execution_count": 31,
     "metadata": {},
     "output_type": "execute_result"
    }
   ],
   "source": [
    "recomendacion('the dictator')"
   ]
  },
  {
   "cell_type": "code",
   "execution_count": 32,
   "metadata": {},
   "outputs": [
    {
     "data": {
      "text/plain": [
       "{'Lista recomendada': ['The Empire Strikes Back',\n",
       "  'The Star Wars Holiday Special',\n",
       "  'Star Wars: The Force Awakens',\n",
       "  'Return Of The Jedi',\n",
       "  'Empire Of Dreams: The Story Of The Star Wars Trilogy']}"
      ]
     },
     "execution_count": 32,
     "metadata": {},
     "output_type": "execute_result"
    }
   ],
   "source": [
    "recomendacion('star wars')"
   ]
  },
  {
   "cell_type": "code",
   "execution_count": 33,
   "metadata": {},
   "outputs": [
    {
     "data": {
      "text/plain": [
       "{'Lista recomendada': ['The Work And The Glory',\n",
       "  \"Sir Arne'S Treasure\",\n",
       "  'The Journey Of August King',\n",
       "  'Our Beloved Month Of August',\n",
       "  'Doctor In Distress']}"
      ]
     },
     "execution_count": 33,
     "metadata": {},
     "output_type": "execute_result"
    }
   ],
   "source": [
    "recomendacion('avengers')"
   ]
  },
  {
   "cell_type": "code",
   "execution_count": 34,
   "metadata": {},
   "outputs": [
    {
     "data": {
      "text/plain": [
       "{'Lista recomendada': ['The Christmas Candle',\n",
       "  '8 Days To Premiere',\n",
       "  'Down With Love',\n",
       "  'Oh, Hello: On Broadway',\n",
       "  'Opening Night']}"
      ]
     },
     "execution_count": 34,
     "metadata": {},
     "output_type": "execute_result"
    }
   ],
   "source": [
    "recomendacion('thor')"
   ]
  },
  {
   "cell_type": "code",
   "execution_count": 35,
   "metadata": {},
   "outputs": [
    {
     "data": {
      "text/plain": [
       "{'Lista recomendada': ['The Avengers',\n",
       "  'Next Avengers: Heroes Of Tomorrow',\n",
       "  'Ultimate Avengers',\n",
       "  'Captain America: Civil War',\n",
       "  'Ultimate Avengers 2']}"
      ]
     },
     "execution_count": 35,
     "metadata": {},
     "output_type": "execute_result"
    }
   ],
   "source": [
    "recomendacion('ultron')"
   ]
  },
  {
   "cell_type": "code",
   "execution_count": 36,
   "metadata": {},
   "outputs": [
    {
     "data": {
      "text/plain": [
       "{'Lista recomendada': ['Captain America: The First Avenger',\n",
       "  'Iron Man & Captain America: Heroes United',\n",
       "  'Captain America',\n",
       "  'Captain America: The Winter Soldier',\n",
       "  'Captain America: Civil War']}"
      ]
     },
     "execution_count": 36,
     "metadata": {},
     "output_type": "execute_result"
    }
   ],
   "source": [
    "recomendacion('captain america')"
   ]
  },
  {
   "cell_type": "code",
   "execution_count": 38,
   "metadata": {},
   "outputs": [
    {
     "data": {
      "text/plain": [
       "{'Lista recomendada': ['Spider-Man 3',\n",
       "  'Spider-Man 2',\n",
       "  'Spider-Man',\n",
       "  'The Amazing Spider-Man 2',\n",
       "  'The Amazing Spider-Man']}"
      ]
     },
     "execution_count": 38,
     "metadata": {},
     "output_type": "execute_result"
    }
   ],
   "source": [
    "recomendacion('spiderman')"
   ]
  }
 ],
 "metadata": {
  "kernelspec": {
   "display_name": "Python 3",
   "language": "python",
   "name": "python3"
  },
  "language_info": {
   "codemirror_mode": {
    "name": "ipython",
    "version": 3
   },
   "file_extension": ".py",
   "mimetype": "text/x-python",
   "name": "python",
   "nbconvert_exporter": "python",
   "pygments_lexer": "ipython3",
   "version": "3.11.1"
  },
  "orig_nbformat": 4
 },
 "nbformat": 4,
 "nbformat_minor": 2
}
